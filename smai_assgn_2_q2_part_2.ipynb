{
 "cells": [
  {
   "cell_type": "markdown",
   "metadata": {
    "colab_type": "text",
    "id": "NlgWPAFaaVhA"
   },
   "source": [
    "\n",
    "#  Training Complex CNN architectures.\n",
    "\n",
    "We will build and train a convolutional network on CIFAR-10 dataset. We will use popular Lenet architecture.\n",
    "\n"
   ]
  },
  {
   "cell_type": "markdown",
   "metadata": {
    "colab_type": "text",
    "id": "cwQN4fI9MKEi"
   },
   "source": [
    "Load all the necessary packages"
   ]
  },
  {
   "cell_type": "code",
   "execution_count": 1,
   "metadata": {
    "colab": {
     "autoexec": {
      "startup": false,
      "wait_interval": 0
     }
    },
    "colab_type": "code",
    "id": "vyrNRmxEL1nt"
   },
   "outputs": [
    {
     "name": "stderr",
     "output_type": "stream",
     "text": [
      "/usr/local/lib/python2.7/dist-packages/h5py/__init__.py:36: FutureWarning: Conversion of the second argument of issubdtype from `float` to `np.floating` is deprecated. In future, it will be treated as `np.float64 == np.dtype(float).type`.\n",
      "  from ._conv import register_converters as _register_converters\n",
      "Using Theano backend.\n"
     ]
    }
   ],
   "source": [
    "import numpy as np\n",
    "import os\n",
    "#os.environ[\"THEANO_FLAGS\"] = \"mode=FAST_RUN,device=cpu,floatX=float32\"\n",
    "#import theano\n",
    "import keras\n",
    "\n",
    "from keras.datasets import cifar10\n",
    "from keras.models  import Sequential\n",
    "from keras.layers import Dense, Dropout, Activation, Flatten\n",
    "from keras.layers import Convolution2D, MaxPooling2D\n",
    "from keras.optimizers import SGD\n",
    "from keras.utils import np_utils\n",
    "import matplotlib.pyplot as plt\n",
    "%matplotlib inline"
   ]
  },
  {
   "cell_type": "markdown",
   "metadata": {
    "colab_type": "text",
    "id": "8hD5AgqHMEKU"
   },
   "source": [
    "## Train on CIFAR-10 dataset\n",
    "\n",
    "#### Load CIFAR 10 dataset.\n",
    "\n",
    "CIFAR-10 is the widely used dataset in deep learning community to benchmark, validate and evaluate any new findings.\n",
    "CIFAR-10 dataset contains around 60k images belonging to 10 classes. It contains 50k training and 10k test images. The dataset is available at http://www.cs.toronto.edu/~kriz/cifar.html . Please visit the webpage to know more about the dataset.\n",
    "\n",
    "\n"
   ]
  },
  {
   "cell_type": "code",
   "execution_count": 8,
   "metadata": {
    "colab": {
     "autoexec": {
      "startup": false,
      "wait_interval": 0
     },
     "base_uri": "https://localhost:8080/",
     "height": 191,
     "output_extras": [
      {
       "item_id": 1
      }
     ]
    },
    "colab_type": "code",
    "executionInfo": {
     "elapsed": 851,
     "status": "ok",
     "timestamp": 1522836384161,
     "user": {
      "displayName": "Abhijeet kumar",
      "photoUrl": "//lh5.googleusercontent.com/-0NFzi6tPjlE/AAAAAAAAAAI/AAAAAAAAE8c/MmvQ4_d77cY/s50-c-k-no/photo.jpg",
      "userId": "109494166844322946121"
     },
     "user_tz": -330
    },
    "id": "T0r5eAjlL4DF",
    "outputId": "b333772c-ce2e-4d90-cad4-61f75e487695"
   },
   "outputs": [
    {
     "name": "stdout",
     "output_type": "stream",
     "text": [
      "Training data:\n",
      "('Number of examples: ', 50000)\n",
      "('Number of channels:', 3)\n",
      "('Image size:', 32, 32)\n",
      "\n",
      "\n",
      "Test data:\n",
      "('Number of examples:', 10000)\n",
      "('Number of channels:', 3)\n",
      "('Image size:', 32, 32)\n"
     ]
    }
   ],
   "source": [
    "(X_train, y_train), (X_test, y_test) = cifar10.load_data()\n",
    "\n",
    "print(\"Training data:\")\n",
    "print( \"Number of examples: \", X_train.shape[0])\n",
    "print( \"Number of channels:\",X_train.shape[3] )\n",
    "print( \"Image size:\", X_train.shape[1], X_train.shape[2])\n",
    "print(\"\\n\")\n",
    "print( \"Test data:\")\n",
    "print( \"Number of examples:\", X_test.shape[0])\n",
    "print( \"Number of channels:\", X_test.shape[3])\n",
    "print( \"Image size:\",X_test.shape[1], X_test.shape[2]) "
   ]
  },
  {
   "cell_type": "markdown",
   "metadata": {
    "colab_type": "text",
    "id": "WW1SFybpYRIA"
   },
   "source": [
    "#### Visualize some images from CIFAR-10 dataset. \n",
    "It contains 10 classes namely, airplane, automobile, bird, cat, deer, dog, frog, horse, ship, truck"
   ]
  },
  {
   "cell_type": "code",
   "execution_count": 9,
   "metadata": {
    "colab": {
     "autoexec": {
      "startup": false,
      "wait_interval": 0
     },
     "base_uri": "https://localhost:8080/",
     "height": 286,
     "output_extras": [
      {
       "item_id": 1
      },
      {
       "item_id": 2
      }
     ]
    },
    "colab_type": "code",
    "executionInfo": {
     "elapsed": 1500,
     "status": "ok",
     "timestamp": 1522836400630,
     "user": {
      "displayName": "Abhijeet kumar",
      "photoUrl": "//lh5.googleusercontent.com/-0NFzi6tPjlE/AAAAAAAAAAI/AAAAAAAAE8c/MmvQ4_d77cY/s50-c-k-no/photo.jpg",
      "userId": "109494166844322946121"
     },
     "user_tz": -330
    },
    "id": "dj5LvOPlYSK4",
    "outputId": "2969b02c-9c98-4b4f-d45c-361953ef7088"
   },
   "outputs": [
    {
     "name": "stdout",
     "output_type": "stream",
     "text": [
      "((288, 320, 3), 255, 0)\n"
     ]
    },
    {
     "data": {
      "image/png": "[encoded data removed]",
      "text/plain": [
       "<matplotlib.figure.Figure at 0x7fe8aa9612d0>"
      ]
     },
     "metadata": {},
     "output_type": "display_data"
    }
   ],
   "source": [
    "plot = []\n",
    "for i in range(1,10):\n",
    "    plot_image = X_train[100*i,:,:,:]\n",
    "    for j in range(1,10):\n",
    "        plot_image = np.concatenate((plot_image, X_train[100*i+j,:,:,:]), axis=1)\n",
    "    if i==1:\n",
    "        plot = plot_image\n",
    "    else:\n",
    "        plot = np.append(plot, plot_image, axis=0)\n",
    "print(plot.shape, np.max(plot), np.min(plot))\n",
    "plt.imshow(plot/255)\n",
    "plt.axis('off')\n",
    "plt.show()"
   ]
  },
  {
   "cell_type": "markdown",
   "metadata": {
    "colab_type": "text",
    "id": "0P3X8ogpYbP4"
   },
   "source": [
    "#### Normalize the data."
   ]
  },
  {
   "cell_type": "code",
   "execution_count": 10,
   "metadata": {
    "colab": {
     "autoexec": {
      "startup": false,
      "wait_interval": 0
     },
     "base_uri": "https://localhost:8080/",
     "height": 86,
     "output_extras": [
      {
       "item_id": 4
      }
     ]
    },
    "colab_type": "code",
    "executionInfo": {
     "elapsed": 7626,
     "status": "ok",
     "timestamp": 1522836414546,
     "user": {
      "displayName": "Abhijeet kumar",
      "photoUrl": "//lh5.googleusercontent.com/-0NFzi6tPjlE/AAAAAAAAAAI/AAAAAAAAE8c/MmvQ4_d77cY/s50-c-k-no/photo.jpg",
      "userId": "109494166844322946121"
     },
     "user_tz": -330
    },
    "id": "zZ76yl0ZYd8k",
    "outputId": "014e7f8a-6ee7-476f-f606-33ba83ae388f"
   },
   "outputs": [
    {
     "name": "stdout",
     "output_type": "stream",
     "text": [
      "('mean before normalization:', 120.70756512369792)\n",
      "('std before normalization:', 64.1500758911213)\n",
      "('mean after normalization:', 4.91799193961621e-17)\n",
      "('std after normalization:', 0.9999999999999996)\n"
     ]
    }
   ],
   "source": [
    "print(\"mean before normalization:\", np.mean(X_train)) \n",
    "print(\"std before normalization:\", np.std(X_train))\n",
    "\n",
    "mean=[0,0,0]\n",
    "std=[0,0,0]\n",
    "newX_train = np.ones(X_train.shape)\n",
    "newX_test = np.ones(X_test.shape)\n",
    "for i in range(3):\n",
    "    mean[i] = np.mean(X_train[:,:,:,i])\n",
    "    std[i] = np.std(X_train[:,:,:,i])\n",
    "    \n",
    "for i in range(3):\n",
    "    newX_train[:,:,:,i] = X_train[:,:,:,i] - mean[i]\n",
    "    newX_train[:,:,:,i] = newX_train[:,:,:,i] / std[i]\n",
    "    newX_test[:,:,:,i] = X_test[:,:,:,i] - mean[i]\n",
    "    newX_test[:,:,:,i] = newX_test[:,:,:,i] / std[i]\n",
    "        \n",
    "    \n",
    "X_train = newX_train\n",
    "X_test = newX_test\n",
    "\n",
    "print(\"mean after normalization:\", np.mean(X_train))\n",
    "print(\"std after normalization:\", np.std(X_train))"
   ]
  },
  {
   "cell_type": "markdown",
   "metadata": {
    "colab_type": "text",
    "id": "yTtzr0maYgbW"
   },
   "source": [
    "#### Specify Training Parameters"
   ]
  },
  {
   "cell_type": "code",
   "execution_count": 11,
   "metadata": {
    "colab": {
     "autoexec": {
      "startup": false,
      "wait_interval": 0
     }
    },
    "colab_type": "code",
    "collapsed": true,
    "id": "0zK_8i89YjNn"
   },
   "outputs": [],
   "source": [
    "batchSize = 50                    #-- Training Batch Size\n",
    "num_classes = 10                  #-- Number of classes in CIFAR-10 dataset\n",
    "num_epochs = 10                   #-- Number of epochs for training   \n",
    "learningRate= 0.001               #-- Learning rate for the network\n",
    "lr_weight_decay = 0.95            #-- Learning weight decay. Reduce the learn rate by 0.95 after epoch\n",
    "\n",
    "\n",
    "img_rows, img_cols = 32, 32       #-- input image dimensions\n",
    "\n",
    "Y_train = np_utils.to_categorical(y_train, num_classes)\n",
    "Y_test = np_utils.to_categorical(y_test, num_classes)"
   ]
  },
  {
   "cell_type": "markdown",
   "metadata": {
    "colab_type": "text",
    "id": "TKvIvhkVYk89"
   },
   "source": [
    "#### Lets build a CNN network (LeNet) in Theano Keras and train on CIFAR-10 dataset."
   ]
  },
  {
   "cell_type": "code",
   "execution_count": null,
   "metadata": {
    "colab": {
     "autoexec": {
      "startup": false,
      "wait_interval": 0
     },
     "base_uri": "https://localhost:8080/",
     "height": 677,
     "output_extras": [
      {
       "item_id": 1
      },
      {
       "item_id": 2
      }
     ]
    },
    "colab_type": "code",
    "executionInfo": {
     "elapsed": 861,
     "status": "ok",
     "timestamp": 1522836425770,
     "user": {
      "displayName": "Abhijeet kumar",
      "photoUrl": "//lh5.googleusercontent.com/-0NFzi6tPjlE/AAAAAAAAAAI/AAAAAAAAE8c/MmvQ4_d77cY/s50-c-k-no/photo.jpg",
      "userId": "109494166844322946121"
     },
     "user_tz": -330
    },
    "id": "V844FNHAYnSW",
    "outputId": "e8e61a86-fad6-4409-dffe-048233c12388"
   },
   "outputs": [
    {
     "name": "stderr",
     "output_type": "stream",
     "text": [
      "/home/satyam/.local/lib/python2.7/site-packages/ipykernel_launcher.py:5: UserWarning: Update your `Conv2D` call to the Keras 2 API: `Conv2D(6, (5, 5), padding=\"valid\", input_shape=(32, 32, 3...)`\n",
      "  \"\"\"\n",
      "/home/satyam/.local/lib/python2.7/site-packages/ipykernel_launcher.py:8: UserWarning: Update your `Conv2D` call to the Keras 2 API: `Conv2D(16, (5, 5))`\n",
      "  \n"
     ]
    },
    {
     "name": "stdout",
     "output_type": "stream",
     "text": [
      "_________________________________________________________________\n",
      "Layer (type)                 Output Shape              Param #   \n",
      "=================================================================\n",
      "conv2d_1 (Conv2D)            (None, 28, 28, 6)         456       \n",
      "_________________________________________________________________\n",
      "activation_1 (Activation)    (None, 28, 28, 6)         0         \n",
      "_________________________________________________________________\n",
      "max_pooling2d_1 (MaxPooling2 (None, 14, 14, 6)         0         \n",
      "_________________________________________________________________\n",
      "conv2d_2 (Conv2D)            (None, 10, 10, 16)        2416      \n",
      "_________________________________________________________________\n",
      "activation_2 (Activation)    (None, 10, 10, 16)        0         \n",
      "_________________________________________________________________\n",
      "max_pooling2d_2 (MaxPooling2 (None, 5, 5, 16)          0         \n",
      "_________________________________________________________________\n",
      "flatten_1 (Flatten)          (None, 400)               0         \n",
      "_________________________________________________________________\n",
      "dense_1 (Dense)              (None, 120)               48120     \n",
      "_________________________________________________________________\n",
      "activation_3 (Activation)    (None, 120)               0         \n",
      "_________________________________________________________________\n",
      "dense_2 (Dense)              (None, 84)                10164     \n",
      "_________________________________________________________________\n",
      "activation_4 (Activation)    (None, 84)                0         \n",
      "_________________________________________________________________\n",
      "dense_3 (Dense)              (None, 10)                850       \n",
      "_________________________________________________________________\n",
      "activation_5 (Activation)    (None, 10)                0         \n",
      "=================================================================\n",
      "Total params: 62,006\n",
      "Trainable params: 62,006\n",
      "Non-trainable params: 0\n",
      "_________________________________________________________________\n",
      "None\n"
     ]
    }
   ],
   "source": [
    "model = Sequential()                                                #-- Sequential container.\n",
    "\n",
    "model.add(Convolution2D(6, 5, 5,                                    #-- 6 outputs (6 filters), 5x5 convolution kernel\n",
    "                        border_mode='valid',\n",
    "                        input_shape=( img_rows, img_cols, 3)))       #-- 3 input depth (RGB)\n",
    "model.add(Activation('relu'))                                       #-- ReLU non-linearity \n",
    "model.add(MaxPooling2D(pool_size=(2, 2)))                           #-- A max-pooling on 2x2 windows\n",
    "model.add(Convolution2D(16, 5, 5))                                  #-- 16 outputs (16 filters), 5x5 convolution kernel\n",
    "model.add(Activation('relu'))                                       #-- ReLU non-linearity\n",
    "model.add(MaxPooling2D(pool_size=(2, 2)))                           #-- A max-pooling on 2x2 windows\n",
    "\n",
    "model.add(Flatten())                                                #-- eshapes a 3D tensor of 16x5x5 into 1D tensor of 16*5*5\n",
    "model.add(Dense(120))                                               #-- 120 outputs fully connected layer\n",
    "model.add(Activation('relu'))                                       #-- ReLU non-linearity \n",
    "model.add(Dense(84))                                                #-- 84 outputs fully connected layer\n",
    "model.add(Activation('relu'))                                       #-- ReLU non-linearity \n",
    "model.add(Dense(num_classes))                                       #-- 10 outputs fully connected layer (one for each class)\n",
    "model.add(Activation('softmax'))                                    #-- converts the output to a log-probability. Useful for classification problems\n",
    "\n",
    "print(model.summary())"
   ]
  },
  {
   "cell_type": "markdown",
   "metadata": {
    "colab_type": "text",
    "id": "NjxIFfzNYpbO"
   },
   "source": [
    "#### Compile and then train the network"
   ]
  },
  {
   "cell_type": "code",
   "execution_count": null,
   "metadata": {
    "colab": {
     "autoexec": {
      "startup": false,
      "wait_interval": 0
     },
     "base_uri": "https://localhost:8080/",
     "height": 382,
     "output_extras": [
      {
       "item_id": 62
      },
      {
       "item_id": 86
      },
      {
       "item_id": 114
      },
      {
       "item_id": 170
      },
      {
       "item_id": 320
      },
      {
       "item_id": 408
      },
      {
       "item_id": 466
      },
      {
       "item_id": 638
      },
      {
       "item_id": 810
      },
      {
       "item_id": 982
      },
      {
       "item_id": 1135
      }
     ]
    },
    "colab_type": "code",
    "executionInfo": {
     "elapsed": 614249,
     "status": "ok",
     "timestamp": 1522837286130,
     "user": {
      "displayName": "Abhijeet kumar",
      "photoUrl": "//lh5.googleusercontent.com/-0NFzi6tPjlE/AAAAAAAAAAI/AAAAAAAAE8c/MmvQ4_d77cY/s50-c-k-no/photo.jpg",
      "userId": "109494166844322946121"
     },
     "user_tz": -330
    },
    "id": "96ukQ_wJYtTU",
    "outputId": "39a207f8-ad6a-4ac1-d1cf-da110a40ee50"
   },
   "outputs": [
    {
     "name": "stdout",
     "output_type": "stream",
     "text": [
      "Train on 50000 samples, validate on 10000 samples\n",
      "Epoch 1/10\n",
      "50000/50000 [==============================] - 77s - loss: 1.8745 - acc: 0.3180 - val_loss: 1.5588 - val_acc: 0.4423\n",
      "Epoch 2/10\n",
      "50000/50000 [==============================] - 80s - loss: 1.5171 - acc: 0.4548 - val_loss: 1.4200 - val_acc: 0.4939\n",
      "Epoch 3/10\n",
      "50000/50000 [==============================] - 83s - loss: 1.4144 - acc: 0.4959 - val_loss: 1.3781 - val_acc: 0.5150\n",
      "Epoch 4/10\n",
      " 3750/50000 [=>............................] - ETA: 72s - loss: 1.3810 - acc: 0.4976"
     ]
    }
   ],
   "source": [
    "sgd = SGD(lr=learningRate, decay = lr_weight_decay)\n",
    "model.compile(loss='categorical_crossentropy',\n",
    "              optimizer='sgd',\n",
    "              metrics=['accuracy'])\n",
    "\n",
    "#-- switch verbose=0 if you get error \"I/O operation from closed file\"\n",
    "history = model.fit(X_train, Y_train, batch_size=batchSize, epochs=num_epochs,\n",
    "          verbose=1, shuffle=True, validation_data=(X_test, Y_test))"
   ]
  },
  {
   "cell_type": "markdown",
   "metadata": {
    "colab_type": "text",
    "id": "-r21LOfyYvOu"
   },
   "source": [
    "#### Print the scores"
   ]
  },
  {
   "cell_type": "code",
   "execution_count": 48,
   "metadata": {
    "colab": {
     "autoexec": {
      "startup": false,
      "wait_interval": 0
     },
     "base_uri": "https://localhost:8080/",
     "height": 571,
     "output_extras": [
      {
       "item_id": 1
      },
      {
       "item_id": 2
      }
     ]
    },
    "colab_type": "code",
    "executionInfo": {
     "elapsed": 1049,
     "status": "ok",
     "timestamp": 1522837293517,
     "user": {
      "displayName": "Abhijeet kumar",
      "photoUrl": "//lh5.googleusercontent.com/-0NFzi6tPjlE/AAAAAAAAAAI/AAAAAAAAE8c/MmvQ4_d77cY/s50-c-k-no/photo.jpg",
      "userId": "109494166844322946121"
     },
     "user_tz": -330
    },
    "id": "natTe_gdYxRV",
    "outputId": "5a262b07-cea8-499c-bd04-15c4b93ae0df"
   },
   "outputs": [
    {
     "data": {
      "image/png": "[encoded data removed]",
      "text/plain": [
       "<matplotlib.figure.Figure at 0x7feaf4ff5198>"
      ]
     },
     "metadata": {
      "tags": []
     },
     "output_type": "display_data"
    },
    {
     "data": {
      "image/png": "[encoded data removed]",
      "text/plain": [
       "<matplotlib.figure.Figure at 0x7feaf70c0550>"
      ]
     },
     "metadata": {
      "tags": []
     },
     "output_type": "display_data"
    }
   ],
   "source": [
    "#-- summarize history for accuracy\n",
    "plt.plot(history.history['acc'])\n",
    "plt.plot(history.history['val_acc'])\n",
    "plt.title('model accuracy')\n",
    "plt.ylabel('accuracy')\n",
    "plt.xlabel('epoch')\n",
    "plt.legend(['train', 'test'], loc='upper left')\n",
    "plt.show()\n",
    "\n",
    "#-- summarize history for loss\n",
    "plt.plot(history.history['loss'])\n",
    "plt.plot(history.history['val_loss'])\n",
    "plt.title('model loss')\n",
    "plt.ylabel('loss')\n",
    "plt.xlabel('epoch')\n",
    "plt.legend(['train', 'test'], loc='upper left')\n",
    "plt.show()"
   ]
  },
  {
   "cell_type": "code",
   "execution_count": 49,
   "metadata": {
    "colab": {
     "autoexec": {
      "startup": false,
      "wait_interval": 0
     },
     "base_uri": "https://localhost:8080/",
     "height": 52,
     "output_extras": [
      {
       "item_id": 1
      }
     ]
    },
    "colab_type": "code",
    "executionInfo": {
     "elapsed": 5834,
     "status": "ok",
     "timestamp": 1522837305610,
     "user": {
      "displayName": "Abhijeet kumar",
      "photoUrl": "//lh5.googleusercontent.com/-0NFzi6tPjlE/AAAAAAAAAAI/AAAAAAAAE8c/MmvQ4_d77cY/s50-c-k-no/photo.jpg",
      "userId": "109494166844322946121"
     },
     "user_tz": -330
    },
    "id": "2O59SdYdY1tb",
    "outputId": "2f12570b-1cbd-4428-bbc6-bad94de3680f"
   },
   "outputs": [
    {
     "name": "stdout",
     "output_type": "stream",
     "text": [
      "Test score: 1.1326242254257202\n",
      "Test accuracy: 0.6047\n"
     ]
    }
   ],
   "source": [
    "#-- test the network\n",
    "score = model.evaluate(X_test, Y_test, verbose=0)\n",
    "\n",
    "print('Test score:', score[0]) \n",
    "print('Test accuracy:', score[1])"
   ]
  },
  {
   "cell_type": "markdown",
   "metadata": {
    "colab_type": "text",
    "id": "JOl807xzY3ox"
   },
   "source": [
    "#### save the model"
   ]
  },
  {
   "cell_type": "code",
   "execution_count": 0,
   "metadata": {
    "colab": {
     "autoexec": {
      "startup": false,
      "wait_interval": 0
     }
    },
    "colab_type": "code",
    "collapsed": true,
    "id": "PfXbKz9lY57Q"
   },
   "outputs": [],
   "source": [
    "#cifar10_weights = model.get_weights()\n",
    "#np.savez(\"cifar10_weights_new\", cifar10_weights = cifar10_weights)"
   ]
  },
  {
   "cell_type": "markdown",
   "metadata": {
    "colab_type": "text",
    "id": "00Dsq2YxY743"
   },
   "source": [
    "\n",
    "** Q1: [0.5 point] **\n",
    "\n",
    "What are the number of parameters in convolution layers with K filters each of size 3*w*h.\n",
    "* Ans :  number of weights in 1 filter = ( 3 * w * h ) + 1. \n",
    "* Total number of weights = number of filters * number of weights\n",
    "                              = K * ( 3 * w* h + 1 )\n",
    "                              = 3 * k * w * h + k \n",
    "\n",
    "** Q2: [0.5 points] ** \n",
    "\n",
    "What are the number of parameters in a max pooling operation? \n",
    "* Ans : 0\n",
    "\n",
    "**Q3: [0.5 point]**\n",
    "\n",
    "Which of the operations contain most number of parameters?\n",
    "      (a) conv (b) pool (c) Fully connected layer (FC) (d) Relu \n",
    "* Ans: (c) fully connected layer n^2 * p ( n*n is size of image and p is output layer size)  \n",
    "\n",
    "**Q4: [0.5 point]**\n",
    "\n",
    "Which operation consume most amount of memory?\n",
    "     (a) initial convolution layers (b) fully connected layers at the end\n",
    "    \n",
    "* Ans: (d) Fully connected layers at the end\n",
    "\n",
    "** Q5: [2 points] **\n",
    "\n",
    "Experiment with **learning rate** (learningRate) and notice the behaviour of the learning process. Plot your observations in a graph with brief explanation.\n",
    "Take the values on a log scale. Vary only one parameter at a time.\n",
    "\n",
    "\n",
    "** Q6: [2 points] **\n",
    "\n",
    "Currently, the **batch-size** is 50. Notice the training loss curve if batch size is changed to 1. Is it smooth or fluctating? Show the effect of batch-size on the learning curves in a plot.\n",
    "Take the values on a log scale. Vary only one parameter at a time.\n",
    "\n",
    "** Q7: [2 points] **\n",
    "\n",
    "Increase the **number of convolution filters** and experiment. Present your observations using plots and brief explanations.\n",
    "Take the values on a log scale. Vary only one parameter at a time.\n",
    "\n",
    "** Q8: [2 points] **\n",
    "\n",
    "What do you observe if you increase the **number of layers** (depth of the network) ? Present your observations using plots and brief explanations. \n",
    "\n",
    "** Q9: [2 points] **\n",
    "\n",
    "What do you observe if you increase the **activation functions** (tanh, relu, sigmoid) ? Present your observations using plots and brief explanations. \n",
    "\n",
    "** Q10: [1 points] **\n",
    "\n",
    "CNN training requires lot of training data. In the absence of large training data, a common practice is to use synthetic data using operations such as flipping, scaling, etc. Can you think of any other two operations techniques that can help to increase the training set? Demonstrate these effects with sufficient explanation.\n"
   ]
  },
  {
   "cell_type": "markdown",
   "metadata": {
    "colab_type": "text",
    "id": "NzsoSw9uani8"
   },
   "source": [
    "\n",
    "```\n",
    "This code is a modified version of the code from Deep-Learning School which took place at IIIT-Hyd in Summers 2017 and Summers 2016\n",
    "```\n"
   ]
  }
 ],
 "metadata": {
  "colab": {
   "collapsed_sections": [],
   "default_view": {},
   "name": "smai_assgn_2_q2_part_2.ipynb",
   "provenance": [],
   "version": "0.3.2",
   "views": {}
  },
  "kernelspec": {
   "display_name": "Python 3",
   "language": "python",
   "name": "python3"
  },
  "language_info": {
   "codemirror_mode": {
    "name": "ipython",
    "version": 3
   },
   "file_extension": ".py",
   "mimetype": "text/x-python",
   "name": "python",
   "nbconvert_exporter": "python",
   "pygments_lexer": "ipython3",
   "version": "3.5.2"
  }
 },
 "nbformat": 4,
 "nbformat_minor": 1
}
